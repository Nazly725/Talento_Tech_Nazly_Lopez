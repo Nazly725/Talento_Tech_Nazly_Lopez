{
  "nbformat": 4,
  "nbformat_minor": 0,
  "metadata": {
    "colab": {
      "provenance": [],
      "authorship_tag": "ABX9TyNynwk0+/hSJViarDo/Y8FQ",
      "include_colab_link": true
    },
    "kernelspec": {
      "name": "python3",
      "display_name": "Python 3"
    },
    "language_info": {
      "name": "python"
    }
  },
  "cells": [
    {
      "cell_type": "markdown",
      "metadata": {
        "id": "view-in-github",
        "colab_type": "text"
      },
      "source": [
        "<a href=\"https://colab.research.google.com/github/Nazly725/Talento_Tech_Nazly_Lopez/blob/main/Taller_de_iniciacion.ipynb\" target=\"_parent\"><img src=\"https://colab.research.google.com/assets/colab-badge.svg\" alt=\"Open In Colab\"/></a>"
      ]
    },
    {
      "cell_type": "code",
      "execution_count": 35,
      "metadata": {
        "id": "RQ7IKmjW7NVk"
      },
      "outputs": [],
      "source": [
        "import pandas as pd"
      ]
    },
    {
      "cell_type": "code",
      "source": [
        "#importar libreria para manipulacion de datos\n",
        "df_1 = pd.read_csv(\"/content/example_ventas.csv\", delimiter=';')\n",
        "df_1.head()"
      ],
      "metadata": {
        "id": "OtTCZg2cKp0D",
        "colab": {
          "base_uri": "https://localhost:8080/",
          "height": 206
        },
        "outputId": "9e66c4de-319f-4bf1-a36d-ba9abb9f2f98"
      },
      "execution_count": 36,
      "outputs": [
        {
          "output_type": "execute_result",
          "data": {
            "text/plain": [
              "        Fecha   Region      Producto Vendedor      Ventas\n",
              "0  31/01/2024  Central    Accesorios    David      8.287?\n",
              "1  01/02/2024  Central    Accesorios    Karen   6.909,00?\n",
              "2  02/02/2024  Central  Dispositivos    David  11.420,00?\n",
              "3  03/02/2024  Central  Dispositivos    Karen  12.948,00?\n",
              "4  04/02/2024  Central      Sistemas    David  20.098,00?"
            ],
            "text/html": [
              "\n",
              "  <div id=\"df-662eee85-87aa-4a8c-9474-7a00654d9adf\" class=\"colab-df-container\">\n",
              "    <div>\n",
              "<style scoped>\n",
              "    .dataframe tbody tr th:only-of-type {\n",
              "        vertical-align: middle;\n",
              "    }\n",
              "\n",
              "    .dataframe tbody tr th {\n",
              "        vertical-align: top;\n",
              "    }\n",
              "\n",
              "    .dataframe thead th {\n",
              "        text-align: right;\n",
              "    }\n",
              "</style>\n",
              "<table border=\"1\" class=\"dataframe\">\n",
              "  <thead>\n",
              "    <tr style=\"text-align: right;\">\n",
              "      <th></th>\n",
              "      <th>Fecha</th>\n",
              "      <th>Region</th>\n",
              "      <th>Producto</th>\n",
              "      <th>Vendedor</th>\n",
              "      <th>Ventas</th>\n",
              "    </tr>\n",
              "  </thead>\n",
              "  <tbody>\n",
              "    <tr>\n",
              "      <th>0</th>\n",
              "      <td>31/01/2024</td>\n",
              "      <td>Central</td>\n",
              "      <td>Accesorios</td>\n",
              "      <td>David</td>\n",
              "      <td>8.287?</td>\n",
              "    </tr>\n",
              "    <tr>\n",
              "      <th>1</th>\n",
              "      <td>01/02/2024</td>\n",
              "      <td>Central</td>\n",
              "      <td>Accesorios</td>\n",
              "      <td>Karen</td>\n",
              "      <td>6.909,00?</td>\n",
              "    </tr>\n",
              "    <tr>\n",
              "      <th>2</th>\n",
              "      <td>02/02/2024</td>\n",
              "      <td>Central</td>\n",
              "      <td>Dispositivos</td>\n",
              "      <td>David</td>\n",
              "      <td>11.420,00?</td>\n",
              "    </tr>\n",
              "    <tr>\n",
              "      <th>3</th>\n",
              "      <td>03/02/2024</td>\n",
              "      <td>Central</td>\n",
              "      <td>Dispositivos</td>\n",
              "      <td>Karen</td>\n",
              "      <td>12.948,00?</td>\n",
              "    </tr>\n",
              "    <tr>\n",
              "      <th>4</th>\n",
              "      <td>04/02/2024</td>\n",
              "      <td>Central</td>\n",
              "      <td>Sistemas</td>\n",
              "      <td>David</td>\n",
              "      <td>20.098,00?</td>\n",
              "    </tr>\n",
              "  </tbody>\n",
              "</table>\n",
              "</div>\n",
              "    <div class=\"colab-df-buttons\">\n",
              "\n",
              "  <div class=\"colab-df-container\">\n",
              "    <button class=\"colab-df-convert\" onclick=\"convertToInteractive('df-662eee85-87aa-4a8c-9474-7a00654d9adf')\"\n",
              "            title=\"Convert this dataframe to an interactive table.\"\n",
              "            style=\"display:none;\">\n",
              "\n",
              "  <svg xmlns=\"http://www.w3.org/2000/svg\" height=\"24px\" viewBox=\"0 -960 960 960\">\n",
              "    <path d=\"M120-120v-720h720v720H120Zm60-500h600v-160H180v160Zm220 220h160v-160H400v160Zm0 220h160v-160H400v160ZM180-400h160v-160H180v160Zm440 0h160v-160H620v160ZM180-180h160v-160H180v160Zm440 0h160v-160H620v160Z\"/>\n",
              "  </svg>\n",
              "    </button>\n",
              "\n",
              "  <style>\n",
              "    .colab-df-container {\n",
              "      display:flex;\n",
              "      gap: 12px;\n",
              "    }\n",
              "\n",
              "    .colab-df-convert {\n",
              "      background-color: #E8F0FE;\n",
              "      border: none;\n",
              "      border-radius: 50%;\n",
              "      cursor: pointer;\n",
              "      display: none;\n",
              "      fill: #1967D2;\n",
              "      height: 32px;\n",
              "      padding: 0 0 0 0;\n",
              "      width: 32px;\n",
              "    }\n",
              "\n",
              "    .colab-df-convert:hover {\n",
              "      background-color: #E2EBFA;\n",
              "      box-shadow: 0px 1px 2px rgba(60, 64, 67, 0.3), 0px 1px 3px 1px rgba(60, 64, 67, 0.15);\n",
              "      fill: #174EA6;\n",
              "    }\n",
              "\n",
              "    .colab-df-buttons div {\n",
              "      margin-bottom: 4px;\n",
              "    }\n",
              "\n",
              "    [theme=dark] .colab-df-convert {\n",
              "      background-color: #3B4455;\n",
              "      fill: #D2E3FC;\n",
              "    }\n",
              "\n",
              "    [theme=dark] .colab-df-convert:hover {\n",
              "      background-color: #434B5C;\n",
              "      box-shadow: 0px 1px 3px 1px rgba(0, 0, 0, 0.15);\n",
              "      filter: drop-shadow(0px 1px 2px rgba(0, 0, 0, 0.3));\n",
              "      fill: #FFFFFF;\n",
              "    }\n",
              "  </style>\n",
              "\n",
              "    <script>\n",
              "      const buttonEl =\n",
              "        document.querySelector('#df-662eee85-87aa-4a8c-9474-7a00654d9adf button.colab-df-convert');\n",
              "      buttonEl.style.display =\n",
              "        google.colab.kernel.accessAllowed ? 'block' : 'none';\n",
              "\n",
              "      async function convertToInteractive(key) {\n",
              "        const element = document.querySelector('#df-662eee85-87aa-4a8c-9474-7a00654d9adf');\n",
              "        const dataTable =\n",
              "          await google.colab.kernel.invokeFunction('convertToInteractive',\n",
              "                                                    [key], {});\n",
              "        if (!dataTable) return;\n",
              "\n",
              "        const docLinkHtml = 'Like what you see? Visit the ' +\n",
              "          '<a target=\"_blank\" href=https://colab.research.google.com/notebooks/data_table.ipynb>data table notebook</a>'\n",
              "          + ' to learn more about interactive tables.';\n",
              "        element.innerHTML = '';\n",
              "        dataTable['output_type'] = 'display_data';\n",
              "        await google.colab.output.renderOutput(dataTable, element);\n",
              "        const docLink = document.createElement('div');\n",
              "        docLink.innerHTML = docLinkHtml;\n",
              "        element.appendChild(docLink);\n",
              "      }\n",
              "    </script>\n",
              "  </div>\n",
              "\n",
              "\n",
              "<div id=\"df-8ee26925-870b-4431-b272-df14a10c4b95\">\n",
              "  <button class=\"colab-df-quickchart\" onclick=\"quickchart('df-8ee26925-870b-4431-b272-df14a10c4b95')\"\n",
              "            title=\"Suggest charts\"\n",
              "            style=\"display:none;\">\n",
              "\n",
              "<svg xmlns=\"http://www.w3.org/2000/svg\" height=\"24px\"viewBox=\"0 0 24 24\"\n",
              "     width=\"24px\">\n",
              "    <g>\n",
              "        <path d=\"M19 3H5c-1.1 0-2 .9-2 2v14c0 1.1.9 2 2 2h14c1.1 0 2-.9 2-2V5c0-1.1-.9-2-2-2zM9 17H7v-7h2v7zm4 0h-2V7h2v10zm4 0h-2v-4h2v4z\"/>\n",
              "    </g>\n",
              "</svg>\n",
              "  </button>\n",
              "\n",
              "<style>\n",
              "  .colab-df-quickchart {\n",
              "      --bg-color: #E8F0FE;\n",
              "      --fill-color: #1967D2;\n",
              "      --hover-bg-color: #E2EBFA;\n",
              "      --hover-fill-color: #174EA6;\n",
              "      --disabled-fill-color: #AAA;\n",
              "      --disabled-bg-color: #DDD;\n",
              "  }\n",
              "\n",
              "  [theme=dark] .colab-df-quickchart {\n",
              "      --bg-color: #3B4455;\n",
              "      --fill-color: #D2E3FC;\n",
              "      --hover-bg-color: #434B5C;\n",
              "      --hover-fill-color: #FFFFFF;\n",
              "      --disabled-bg-color: #3B4455;\n",
              "      --disabled-fill-color: #666;\n",
              "  }\n",
              "\n",
              "  .colab-df-quickchart {\n",
              "    background-color: var(--bg-color);\n",
              "    border: none;\n",
              "    border-radius: 50%;\n",
              "    cursor: pointer;\n",
              "    display: none;\n",
              "    fill: var(--fill-color);\n",
              "    height: 32px;\n",
              "    padding: 0;\n",
              "    width: 32px;\n",
              "  }\n",
              "\n",
              "  .colab-df-quickchart:hover {\n",
              "    background-color: var(--hover-bg-color);\n",
              "    box-shadow: 0 1px 2px rgba(60, 64, 67, 0.3), 0 1px 3px 1px rgba(60, 64, 67, 0.15);\n",
              "    fill: var(--button-hover-fill-color);\n",
              "  }\n",
              "\n",
              "  .colab-df-quickchart-complete:disabled,\n",
              "  .colab-df-quickchart-complete:disabled:hover {\n",
              "    background-color: var(--disabled-bg-color);\n",
              "    fill: var(--disabled-fill-color);\n",
              "    box-shadow: none;\n",
              "  }\n",
              "\n",
              "  .colab-df-spinner {\n",
              "    border: 2px solid var(--fill-color);\n",
              "    border-color: transparent;\n",
              "    border-bottom-color: var(--fill-color);\n",
              "    animation:\n",
              "      spin 1s steps(1) infinite;\n",
              "  }\n",
              "\n",
              "  @keyframes spin {\n",
              "    0% {\n",
              "      border-color: transparent;\n",
              "      border-bottom-color: var(--fill-color);\n",
              "      border-left-color: var(--fill-color);\n",
              "    }\n",
              "    20% {\n",
              "      border-color: transparent;\n",
              "      border-left-color: var(--fill-color);\n",
              "      border-top-color: var(--fill-color);\n",
              "    }\n",
              "    30% {\n",
              "      border-color: transparent;\n",
              "      border-left-color: var(--fill-color);\n",
              "      border-top-color: var(--fill-color);\n",
              "      border-right-color: var(--fill-color);\n",
              "    }\n",
              "    40% {\n",
              "      border-color: transparent;\n",
              "      border-right-color: var(--fill-color);\n",
              "      border-top-color: var(--fill-color);\n",
              "    }\n",
              "    60% {\n",
              "      border-color: transparent;\n",
              "      border-right-color: var(--fill-color);\n",
              "    }\n",
              "    80% {\n",
              "      border-color: transparent;\n",
              "      border-right-color: var(--fill-color);\n",
              "      border-bottom-color: var(--fill-color);\n",
              "    }\n",
              "    90% {\n",
              "      border-color: transparent;\n",
              "      border-bottom-color: var(--fill-color);\n",
              "    }\n",
              "  }\n",
              "</style>\n",
              "\n",
              "  <script>\n",
              "    async function quickchart(key) {\n",
              "      const quickchartButtonEl =\n",
              "        document.querySelector('#' + key + ' button');\n",
              "      quickchartButtonEl.disabled = true;  // To prevent multiple clicks.\n",
              "      quickchartButtonEl.classList.add('colab-df-spinner');\n",
              "      try {\n",
              "        const charts = await google.colab.kernel.invokeFunction(\n",
              "            'suggestCharts', [key], {});\n",
              "      } catch (error) {\n",
              "        console.error('Error during call to suggestCharts:', error);\n",
              "      }\n",
              "      quickchartButtonEl.classList.remove('colab-df-spinner');\n",
              "      quickchartButtonEl.classList.add('colab-df-quickchart-complete');\n",
              "    }\n",
              "    (() => {\n",
              "      let quickchartButtonEl =\n",
              "        document.querySelector('#df-8ee26925-870b-4431-b272-df14a10c4b95 button');\n",
              "      quickchartButtonEl.style.display =\n",
              "        google.colab.kernel.accessAllowed ? 'block' : 'none';\n",
              "    })();\n",
              "  </script>\n",
              "</div>\n",
              "\n",
              "    </div>\n",
              "  </div>\n"
            ],
            "application/vnd.google.colaboratory.intrinsic+json": {
              "type": "dataframe",
              "variable_name": "df_1",
              "summary": "{\n  \"name\": \"df_1\",\n  \"rows\": 18,\n  \"fields\": [\n    {\n      \"column\": \"Fecha\",\n      \"properties\": {\n        \"dtype\": \"object\",\n        \"num_unique_values\": 18,\n        \"samples\": [\n          \"31/01/2024\",\n          \"01/02/2024\",\n          \"08/02/2024\"\n        ],\n        \"semantic_type\": \"\",\n        \"description\": \"\"\n      }\n    },\n    {\n      \"column\": \"Region\",\n      \"properties\": {\n        \"dtype\": \"category\",\n        \"num_unique_values\": 3,\n        \"samples\": [\n          \"Central\",\n          \"Este\",\n          \"Oeste\"\n        ],\n        \"semantic_type\": \"\",\n        \"description\": \"\"\n      }\n    },\n    {\n      \"column\": \"Producto\",\n      \"properties\": {\n        \"dtype\": \"category\",\n        \"num_unique_values\": 3,\n        \"samples\": [\n          \"Accesorios\",\n          \"Dispositivos\",\n          \"Sistemas\"\n        ],\n        \"semantic_type\": \"\",\n        \"description\": \"\"\n      }\n    },\n    {\n      \"column\": \"Vendedor\",\n      \"properties\": {\n        \"dtype\": \"category\",\n        \"num_unique_values\": 6,\n        \"samples\": [\n          \"David\",\n          \"Karen\",\n          \"Sara\"\n        ],\n        \"semantic_type\": \"\",\n        \"description\": \"\"\n      }\n    },\n    {\n      \"column\": \"Ventas\",\n      \"properties\": {\n        \"dtype\": \"string\",\n        \"num_unique_values\": 18,\n        \"samples\": [\n          \"8.287?\",\n          \"6.909,00?\",\n          \"10.348,00?\"\n        ],\n        \"semantic_type\": \"\",\n        \"description\": \"\"\n      }\n    }\n  ]\n}"
            }
          },
          "metadata": {},
          "execution_count": 36
        }
      ]
    },
    {
      "cell_type": "code",
      "source": [
        "# Ejercicio 1: Mostrar las primeras filas del Dataframe\n",
        "print(\"Ejercicio 1\")\n",
        "print(df_1.head(5))"
      ],
      "metadata": {
        "colab": {
          "base_uri": "https://localhost:8080/"
        },
        "id": "RrsuwbWg3h1I",
        "outputId": "c526fe00-dbc8-4b96-bd09-42727158a476"
      },
      "execution_count": 37,
      "outputs": [
        {
          "output_type": "stream",
          "name": "stdout",
          "text": [
            "Ejercicio 1\n",
            "        Fecha   Region      Producto Vendedor      Ventas\n",
            "0  31/01/2024  Central    Accesorios    David      8.287?\n",
            "1  01/02/2024  Central    Accesorios    Karen   6.909,00?\n",
            "2  02/02/2024  Central  Dispositivos    David  11.420,00?\n",
            "3  03/02/2024  Central  Dispositivos    Karen  12.948,00?\n",
            "4  04/02/2024  Central      Sistemas    David  20.098,00?\n"
          ]
        }
      ]
    },
    {
      "cell_type": "code",
      "source": [
        "# Ejercicio 2: calcular el total de ventas por región\n",
        "print(\"Ejercicio 2\")\n",
        "Ventas_Region = df_1.groupby('Region')['Ventas'].sum()\n",
        "print(Ventas_Region)\n",
        "\n",
        "# print(df_1.groupby('Region')['Ventas'].sum())"
      ],
      "metadata": {
        "colab": {
          "base_uri": "https://localhost:8080/"
        },
        "id": "Bo-n02TF4Cl9",
        "outputId": "6ca30fa2-533c-4fd1-b571-b71d0569a69e"
      },
      "execution_count": 38,
      "outputs": [
        {
          "output_type": "stream",
          "name": "stdout",
          "text": [
            "Ejercicio 2\n",
            "Region\n",
            "Central    8.287?6.909,00?11.420,00?12.948,00?20.098,00?3...\n",
            "Este       9.323,00?7.667,00?10.348,00?9.312,00?13.531,00...\n",
            "Oeste      4.744,00?5.442,00?10.711,00?8.780,00?32.855,00...\n",
            "Name: Ventas, dtype: object\n"
          ]
        }
      ]
    },
    {
      "cell_type": "code",
      "source": [
        "# Ejercicio 3: Filtrar el Dataframe para mostrar solo las ventas realizadas por David\n",
        "print(\"Ejercicio 3\")\n",
        "David_Ventas = df_1[df_1['Vendedor'] == 'David']\n",
        "print(David_Ventas)"
      ],
      "metadata": {
        "colab": {
          "base_uri": "https://localhost:8080/"
        },
        "id": "PCjE59kA464K",
        "outputId": "1b02197c-0657-416a-d242-dae231c4c7fd"
      },
      "execution_count": 39,
      "outputs": [
        {
          "output_type": "stream",
          "name": "stdout",
          "text": [
            "Ejercicio 3\n",
            "        Fecha   Region      Producto Vendedor      Ventas\n",
            "0  31/01/2024  Central    Accesorios    David      8.287?\n",
            "2  02/02/2024  Central  Dispositivos    David  11.420,00?\n",
            "4  04/02/2024  Central      Sistemas    David  20.098,00?\n"
          ]
        }
      ]
    },
    {
      "cell_type": "code",
      "source": [
        "# Ejercicio 4: CAlcular el promedio de ventas por región\n",
        "print(\"Ejercicio 4\")\n",
        "\n",
        "# Reemplazamos \"?\" con \" \"\n",
        "df_1 = df_1.replace(\"\\?\", \" \", regex=True)\n",
        "\n",
        "# Convertimos Ventas a un valor númerico\n",
        "# Usamos replace para manejar el formato europeo\n",
        "# y strip() para quitar espacios en blanco\n",
        "df_1['Ventas'] = df_1['Ventas'].str.strip().str.replace('.', '').str.replace(',', '.')\n",
        "df_1['Ventas'] = pd.to_numeric(df_1['Ventas'])\n",
        "\n",
        "# Calculamos el promedio de ventas por región\n",
        "Promedio_Ventas = df_1.groupby('Region')['Ventas'].mean()\n",
        "print(Promedio_Ventas)"
      ],
      "metadata": {
        "colab": {
          "base_uri": "https://localhost:8080/"
        },
        "id": "Fd6UQ40b5CiX",
        "outputId": "a958241c-7348-4481-b83d-e924007c1942"
      },
      "execution_count": 40,
      "outputs": [
        {
          "output_type": "stream",
          "name": "stdout",
          "text": [
            "Ejercicio 4\n",
            "Region\n",
            "Central    15049.166667\n",
            "Este       10592.500000\n",
            "Oeste      14280.500000\n",
            "Name: Ventas, dtype: float64\n"
          ]
        }
      ]
    },
    {
      "cell_type": "code",
      "source": [
        "# Ejercicio 5: Caldular el promedio de ventas por región con dos decimales\n",
        "print(\"Ejercicio 5\")\n",
        "Promedio_Ventas = df_1.groupby('Region')['Ventas'].mean().round(2)\n",
        "print(Promedio_Ventas)"
      ],
      "metadata": {
        "colab": {
          "base_uri": "https://localhost:8080/"
        },
        "id": "n8DrmQMv8We_",
        "outputId": "95c66348-7019-418f-80fd-ebb965640e54"
      },
      "execution_count": 41,
      "outputs": [
        {
          "output_type": "stream",
          "name": "stdout",
          "text": [
            "Ejercicio 5\n",
            "Region\n",
            "Central    15049.17\n",
            "Este       10592.50\n",
            "Oeste      14280.50\n",
            "Name: Ventas, dtype: float64\n"
          ]
        }
      ]
    },
    {
      "cell_type": "code",
      "source": [
        "# Ejercicio 6: Ordenar el DataFrame por ventas en orden descendente\n",
        "print(\"Ejercicio 6\")\n",
        "df_1_ordenado = df_1.sort_values(by='Ventas', ascending=False)\n",
        "print(df_1_ordenado)"
      ],
      "metadata": {
        "colab": {
          "base_uri": "https://localhost:8080/"
        },
        "id": "0Q_WPFeB8tcP",
        "outputId": "674c8165-5c01-4f25-d0a3-27a137a5c497"
      },
      "execution_count": 42,
      "outputs": [
        {
          "output_type": "stream",
          "name": "stdout",
          "text": [
            "Ejercicio 6\n",
            "         Fecha   Region      Producto Vendedor   Ventas\n",
            "16  16/02/2024    Oeste      Sistemas    Kevin  32855.0\n",
            "5   05/02/2024  Central      Sistemas    Karen  30633.0\n",
            "17  17/02/2024    Oeste      Sistemas     Sara  23151.0\n",
            "4   04/02/2024  Central      Sistemas    David  20098.0\n",
            "10  10/02/2024     Este      Sistemas      Ana  13531.0\n",
            "11  11/02/2024     Este      Sistemas    Lucas  13374.0\n",
            "3   03/02/2024  Central  Dispositivos    Karen  12948.0\n",
            "2   02/02/2024  Central  Dispositivos    David  11420.0\n",
            "14  14/02/2024    Oeste  Dispositivos    Kevin  10711.0\n",
            "8   08/02/2024     Este  Dispositivos      Ana  10348.0\n",
            "6   06/02/2024     Este    Accesorios      Ana   9323.0\n",
            "9   09/02/2024     Este  Dispositivos    Lucas   9312.0\n",
            "15  15/02/2024    Oeste  Dispositivos     Sara   8780.0\n",
            "0   31/01/2024  Central    Accesorios    David   8287.0\n",
            "7   07/02/2024     Este    Accesorios    Lucas   7667.0\n",
            "1   01/02/2024  Central    Accesorios    Karen   6909.0\n",
            "13  13/02/2024    Oeste    Accesorios     Sara   5442.0\n",
            "12  12/02/2024    Oeste    Accesorios    Kevin   4744.0\n"
          ]
        }
      ]
    },
    {
      "cell_type": "code",
      "source": [
        "# Ejercicio 7: Filtrar las filas con ventas mayores a 10000 y ordenar de amayor a menor\n",
        "print(\"Ejercicio 7\")\n",
        "df_1_filtrado = df_1[df_1['Ventas'] > 10000].sort_values(by='Ventas', ascending=False)\n",
        "print(df_1_filtrado)"
      ],
      "metadata": {
        "colab": {
          "base_uri": "https://localhost:8080/"
        },
        "id": "w47aCLG-84B_",
        "outputId": "0140073c-b066-4df1-9d73-08ff7ea5840c"
      },
      "execution_count": 43,
      "outputs": [
        {
          "output_type": "stream",
          "name": "stdout",
          "text": [
            "Ejercicio 7\n",
            "         Fecha   Region      Producto Vendedor   Ventas\n",
            "16  16/02/2024    Oeste      Sistemas    Kevin  32855.0\n",
            "5   05/02/2024  Central      Sistemas    Karen  30633.0\n",
            "17  17/02/2024    Oeste      Sistemas     Sara  23151.0\n",
            "4   04/02/2024  Central      Sistemas    David  20098.0\n",
            "10  10/02/2024     Este      Sistemas      Ana  13531.0\n",
            "11  11/02/2024     Este      Sistemas    Lucas  13374.0\n",
            "3   03/02/2024  Central  Dispositivos    Karen  12948.0\n",
            "2   02/02/2024  Central  Dispositivos    David  11420.0\n",
            "14  14/02/2024    Oeste  Dispositivos    Kevin  10711.0\n",
            "8   08/02/2024     Este  Dispositivos      Ana  10348.0\n"
          ]
        }
      ]
    },
    {
      "cell_type": "code",
      "source": [
        "# Ejercicio 8: Ordenar el Dataframe por ventas en orden descendente\n",
        "print(\"Ejercicio 8\")\n",
        "df_1__ordenado = df_1.sort_values(by='Ventas', ascending=False)\n",
        "print(df_1_ordenado)"
      ],
      "metadata": {
        "colab": {
          "base_uri": "https://localhost:8080/"
        },
        "id": "U5eL8lY98_6X",
        "outputId": "a57398d6-f058-4f36-cf56-d4abdfb95f87"
      },
      "execution_count": 44,
      "outputs": [
        {
          "output_type": "stream",
          "name": "stdout",
          "text": [
            "Ejercicio 8\n",
            "         Fecha   Region      Producto Vendedor   Ventas\n",
            "16  16/02/2024    Oeste      Sistemas    Kevin  32855.0\n",
            "5   05/02/2024  Central      Sistemas    Karen  30633.0\n",
            "17  17/02/2024    Oeste      Sistemas     Sara  23151.0\n",
            "4   04/02/2024  Central      Sistemas    David  20098.0\n",
            "10  10/02/2024     Este      Sistemas      Ana  13531.0\n",
            "11  11/02/2024     Este      Sistemas    Lucas  13374.0\n",
            "3   03/02/2024  Central  Dispositivos    Karen  12948.0\n",
            "2   02/02/2024  Central  Dispositivos    David  11420.0\n",
            "14  14/02/2024    Oeste  Dispositivos    Kevin  10711.0\n",
            "8   08/02/2024     Este  Dispositivos      Ana  10348.0\n",
            "6   06/02/2024     Este    Accesorios      Ana   9323.0\n",
            "9   09/02/2024     Este  Dispositivos    Lucas   9312.0\n",
            "15  15/02/2024    Oeste  Dispositivos     Sara   8780.0\n",
            "0   31/01/2024  Central    Accesorios    David   8287.0\n",
            "7   07/02/2024     Este    Accesorios    Lucas   7667.0\n",
            "1   01/02/2024  Central    Accesorios    Karen   6909.0\n",
            "13  13/02/2024    Oeste    Accesorios     Sara   5442.0\n",
            "12  12/02/2024    Oeste    Accesorios    Kevin   4744.0\n"
          ]
        }
      ]
    },
    {
      "cell_type": "code",
      "source": [
        "# Ejercicio 9: Eliminar la columna \"Venderdor\"\n",
        "print(\"Ejercicio 9\")\n",
        "df_1_sin_vendedor = df_1.drop(columns=['Vendedor'])\n",
        "print(df_1_sin_vendedor)"
      ],
      "metadata": {
        "colab": {
          "base_uri": "https://localhost:8080/"
        },
        "id": "O1dCrXj29Oh3",
        "outputId": "2382d12c-a960-46a4-b419-282c479ead65"
      },
      "execution_count": 45,
      "outputs": [
        {
          "output_type": "stream",
          "name": "stdout",
          "text": [
            "Ejercicio 9\n",
            "         Fecha   Region      Producto   Ventas\n",
            "0   31/01/2024  Central    Accesorios   8287.0\n",
            "1   01/02/2024  Central    Accesorios   6909.0\n",
            "2   02/02/2024  Central  Dispositivos  11420.0\n",
            "3   03/02/2024  Central  Dispositivos  12948.0\n",
            "4   04/02/2024  Central      Sistemas  20098.0\n",
            "5   05/02/2024  Central      Sistemas  30633.0\n",
            "6   06/02/2024     Este    Accesorios   9323.0\n",
            "7   07/02/2024     Este    Accesorios   7667.0\n",
            "8   08/02/2024     Este  Dispositivos  10348.0\n",
            "9   09/02/2024     Este  Dispositivos   9312.0\n",
            "10  10/02/2024     Este      Sistemas  13531.0\n",
            "11  11/02/2024     Este      Sistemas  13374.0\n",
            "12  12/02/2024    Oeste    Accesorios   4744.0\n",
            "13  13/02/2024    Oeste    Accesorios   5442.0\n",
            "14  14/02/2024    Oeste  Dispositivos  10711.0\n",
            "15  15/02/2024    Oeste  Dispositivos   8780.0\n",
            "16  16/02/2024    Oeste      Sistemas  32855.0\n",
            "17  17/02/2024    Oeste      Sistemas  23151.0\n"
          ]
        }
      ]
    }
  ]
}