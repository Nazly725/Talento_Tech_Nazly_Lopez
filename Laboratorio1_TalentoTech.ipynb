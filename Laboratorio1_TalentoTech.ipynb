{
  "nbformat": 4,
  "nbformat_minor": 0,
  "metadata": {
    "colab": {
      "provenance": [],
      "include_colab_link": true
    },
    "kernelspec": {
      "name": "python3",
      "display_name": "Python 3"
    },
    "language_info": {
      "name": "python"
    }
  },
  "cells": [
    {
      "cell_type": "markdown",
      "metadata": {
        "id": "view-in-github",
        "colab_type": "text"
      },
      "source": [
        "<a href=\"https://colab.research.google.com/github/Nazly725/Talento_Tech_Nazly_Lopez/blob/main/Laboratorio1_TalentoTech.ipynb\" target=\"_parent\"><img src=\"https://colab.research.google.com/assets/colab-badge.svg\" alt=\"Open In Colab\"/></a>"
      ]
    },
    {
      "cell_type": "markdown",
      "metadata": {
        "id": "Sz8ogFjl7a8b"
      },
      "source": [
        "# Laboratorio # 1\n",
        "\n",
        "### Temas: Limpieza de Datos, análisis de negocio, integración de fuentes de datos"
      ]
    },
    {
      "cell_type": "markdown",
      "metadata": {
        "id": "jYJxCZNZDfYe"
      },
      "source": [
        "# 1. El problema del negocio\n",
        "\n",
        "Una entidad bancaria contrata a una empresa de marketing encargada de contactar telefónicamente a posibles clientes para determinar si están interesados o no en adquirir un certificado de depósito a término con el banco.\n",
        "\n",
        "¿Qué perfil tienen los clientes con mayor potencial de conversión?"
      ]
    },
    {
      "cell_type": "markdown",
      "metadata": {
        "id": "4WOEkmPt7aHf"
      },
      "source": [
        "#2. El set de datos\n",
        "\n",
        "La información recolectada por la empresa de mercadeo se encuentra en un archivo CSV (`dataset_banco.csv`) con 45215 filas y 17 columnas.\n",
        "\n",
        "Cada registro contiene 16 características (las primeras 16 columnas) y una categoría (\"yes\" o \"no\" dependiendo de si la persona está o no interesada en adquirir el producto). Las columnas son:\n",
        "\n",
        "1. \"age\":  edad (numérica)\n",
        "2. \"job\": tipo de trabajo (categórica: \"admin.\", \"unknown\", \"unemployed\", \"management\", \"housemaid\", \"entrepreneur\", \"student\", \"blue-collar\",\"self-employed\", \"retired\", \"technician\", \"services\")\n",
        "3. \"marital\": estado civil (categórica: \"married\", \"divorced\", \"single\")\n",
        "4. \"education\": nivel educativo (categórica: \"unknown\", \"secondary\", \"primary\", \"tertiary\")\n",
        "5. \"default\": si dejó de pagar sus obligaciones (categórica: \"yes\", \"no\")\n",
        "6. \"balance\": saldo promedio anual de ingresos en euros (numérica)\n",
        "7. \"housing\": ¿tiene o no crédito hipotecario? (categórica: \"yes\", \"no\")\n",
        "8. \"loan\": ¿tiene créditos de consumo? (categórica: \"yes\", \"no\")\n",
        "9. \"contact\": medio a través del cual fue contactado (categórica: \"unknown\", \"telephone\", \"cellular\")\n",
        "10. \"day\": último día del mes en el que fue contactada (numérica)\n",
        "11. \"month\": último mes en el que fue contactada (categórica: \"jan\", \"feb\", \"mar\", ..., \"nov\", \"dec\")\n",
        "12. \"duration\": duración (en segundos) del último contacto (numérica)\n",
        "13. \"campaign\": número total de veces que fue contactada durante la campaña (numérica)\n",
        "14. \"pdays\": número de días transcurridos después de haber sido contactado antes de la campaña actual (numérica. -1 indica que no fue contactado previamente)\n",
        "15. \"previous\": número de veces que ha sido contactada antes de esta campaña (numérica)\n",
        "16. \"poutcome\": resultado de la campaña de marketing anterior (categórica: \"unknown\", \"other\", \"failure\", \"success\")\n",
        "17. \"y\": categoría ¿el cliente se suscribió a un depósito a término? (categórica: \"yes\", \"no\")"
      ]
    },
    {
      "cell_type": "markdown",
      "metadata": {
        "id": "7wXHT_PLEFkr"
      },
      "source": [
        "#3. Una primera mirada al dataset"
      ]
    },
    {
      "cell_type": "code",
      "metadata": {
        "id": "SQ_-SdsX7enM"
      },
      "source": [
        "# Importar librerías\n",
        "import pandas as pd\n",
        "import matplotlib.pyplot as plt\n",
        "import seaborn as sns\n",
        "import statsmodels.api as sm"
      ],
      "execution_count": 4,
      "outputs": []
    },
    {
      "cell_type": "code",
      "metadata": {
        "colab": {
          "base_uri": "https://localhost:8080/",
          "height": 356
        },
        "id": "yECOD3UAEV-a",
        "outputId": "4d2018f8-a113-453e-e4e1-48cc63981466"
      },
      "source": [
        "# Lectura\n",
        "from google.colab import drive\n",
        "drive.mount('/content/drive')\n",
        "\n",
        "ruta = \"/content/drive/MyDrive/Curso analítica de datos/Copia de dataset_banco.csv\"\n",
        "df = pd.read_csv(ruta)"
      ],
      "execution_count": 5,
      "outputs": [
        {
          "output_type": "error",
          "ename": "MessageError",
          "evalue": "Error: credential propagation was unsuccessful",
          "traceback": [
            "\u001b[0;31m---------------------------------------------------------------------------\u001b[0m",
            "\u001b[0;31mMessageError\u001b[0m                              Traceback (most recent call last)",
            "\u001b[0;32m<ipython-input-5-700f26a5189d>\u001b[0m in \u001b[0;36m<cell line: 3>\u001b[0;34m()\u001b[0m\n\u001b[1;32m      1\u001b[0m \u001b[0;31m# Lectura\u001b[0m\u001b[0;34m\u001b[0m\u001b[0;34m\u001b[0m\u001b[0m\n\u001b[1;32m      2\u001b[0m \u001b[0;32mfrom\u001b[0m \u001b[0mgoogle\u001b[0m\u001b[0;34m.\u001b[0m\u001b[0mcolab\u001b[0m \u001b[0;32mimport\u001b[0m \u001b[0mdrive\u001b[0m\u001b[0;34m\u001b[0m\u001b[0;34m\u001b[0m\u001b[0m\n\u001b[0;32m----> 3\u001b[0;31m \u001b[0mdrive\u001b[0m\u001b[0;34m.\u001b[0m\u001b[0mmount\u001b[0m\u001b[0;34m(\u001b[0m\u001b[0;34m'/content/drive'\u001b[0m\u001b[0;34m)\u001b[0m\u001b[0;34m\u001b[0m\u001b[0;34m\u001b[0m\u001b[0m\n\u001b[0m\u001b[1;32m      4\u001b[0m \u001b[0;34m\u001b[0m\u001b[0m\n\u001b[1;32m      5\u001b[0m \u001b[0mruta\u001b[0m \u001b[0;34m=\u001b[0m \u001b[0;34m\"/content/drive/MyDrive/Curso analítica de datos/Copia de dataset_banco.csv\"\u001b[0m\u001b[0;34m\u001b[0m\u001b[0;34m\u001b[0m\u001b[0m\n",
            "\u001b[0;32m/usr/local/lib/python3.10/dist-packages/google/colab/drive.py\u001b[0m in \u001b[0;36mmount\u001b[0;34m(mountpoint, force_remount, timeout_ms, readonly)\u001b[0m\n\u001b[1;32m     98\u001b[0m \u001b[0;32mdef\u001b[0m \u001b[0mmount\u001b[0m\u001b[0;34m(\u001b[0m\u001b[0mmountpoint\u001b[0m\u001b[0;34m,\u001b[0m \u001b[0mforce_remount\u001b[0m\u001b[0;34m=\u001b[0m\u001b[0;32mFalse\u001b[0m\u001b[0;34m,\u001b[0m \u001b[0mtimeout_ms\u001b[0m\u001b[0;34m=\u001b[0m\u001b[0;36m120000\u001b[0m\u001b[0;34m,\u001b[0m \u001b[0mreadonly\u001b[0m\u001b[0;34m=\u001b[0m\u001b[0;32mFalse\u001b[0m\u001b[0;34m)\u001b[0m\u001b[0;34m:\u001b[0m\u001b[0;34m\u001b[0m\u001b[0;34m\u001b[0m\u001b[0m\n\u001b[1;32m     99\u001b[0m   \u001b[0;34m\"\"\"Mount your Google Drive at the specified mountpoint path.\"\"\"\u001b[0m\u001b[0;34m\u001b[0m\u001b[0;34m\u001b[0m\u001b[0m\n\u001b[0;32m--> 100\u001b[0;31m   return _mount(\n\u001b[0m\u001b[1;32m    101\u001b[0m       \u001b[0mmountpoint\u001b[0m\u001b[0;34m,\u001b[0m\u001b[0;34m\u001b[0m\u001b[0;34m\u001b[0m\u001b[0m\n\u001b[1;32m    102\u001b[0m       \u001b[0mforce_remount\u001b[0m\u001b[0;34m=\u001b[0m\u001b[0mforce_remount\u001b[0m\u001b[0;34m,\u001b[0m\u001b[0;34m\u001b[0m\u001b[0;34m\u001b[0m\u001b[0m\n",
            "\u001b[0;32m/usr/local/lib/python3.10/dist-packages/google/colab/drive.py\u001b[0m in \u001b[0;36m_mount\u001b[0;34m(mountpoint, force_remount, timeout_ms, ephemeral, readonly)\u001b[0m\n\u001b[1;32m    135\u001b[0m   )\n\u001b[1;32m    136\u001b[0m   \u001b[0;32mif\u001b[0m \u001b[0mephemeral\u001b[0m\u001b[0;34m:\u001b[0m\u001b[0;34m\u001b[0m\u001b[0;34m\u001b[0m\u001b[0m\n\u001b[0;32m--> 137\u001b[0;31m     _message.blocking_request(\n\u001b[0m\u001b[1;32m    138\u001b[0m         \u001b[0;34m'request_auth'\u001b[0m\u001b[0;34m,\u001b[0m\u001b[0;34m\u001b[0m\u001b[0;34m\u001b[0m\u001b[0m\n\u001b[1;32m    139\u001b[0m         \u001b[0mrequest\u001b[0m\u001b[0;34m=\u001b[0m\u001b[0;34m{\u001b[0m\u001b[0;34m'authType'\u001b[0m\u001b[0;34m:\u001b[0m \u001b[0;34m'dfs_ephemeral'\u001b[0m\u001b[0;34m}\u001b[0m\u001b[0;34m,\u001b[0m\u001b[0;34m\u001b[0m\u001b[0;34m\u001b[0m\u001b[0m\n",
            "\u001b[0;32m/usr/local/lib/python3.10/dist-packages/google/colab/_message.py\u001b[0m in \u001b[0;36mblocking_request\u001b[0;34m(request_type, request, timeout_sec, parent)\u001b[0m\n\u001b[1;32m    174\u001b[0m       \u001b[0mrequest_type\u001b[0m\u001b[0;34m,\u001b[0m \u001b[0mrequest\u001b[0m\u001b[0;34m,\u001b[0m \u001b[0mparent\u001b[0m\u001b[0;34m=\u001b[0m\u001b[0mparent\u001b[0m\u001b[0;34m,\u001b[0m \u001b[0mexpect_reply\u001b[0m\u001b[0;34m=\u001b[0m\u001b[0;32mTrue\u001b[0m\u001b[0;34m\u001b[0m\u001b[0;34m\u001b[0m\u001b[0m\n\u001b[1;32m    175\u001b[0m   )\n\u001b[0;32m--> 176\u001b[0;31m   \u001b[0;32mreturn\u001b[0m \u001b[0mread_reply_from_input\u001b[0m\u001b[0;34m(\u001b[0m\u001b[0mrequest_id\u001b[0m\u001b[0;34m,\u001b[0m \u001b[0mtimeout_sec\u001b[0m\u001b[0;34m)\u001b[0m\u001b[0;34m\u001b[0m\u001b[0;34m\u001b[0m\u001b[0m\n\u001b[0m",
            "\u001b[0;32m/usr/local/lib/python3.10/dist-packages/google/colab/_message.py\u001b[0m in \u001b[0;36mread_reply_from_input\u001b[0;34m(message_id, timeout_sec)\u001b[0m\n\u001b[1;32m    101\u001b[0m     ):\n\u001b[1;32m    102\u001b[0m       \u001b[0;32mif\u001b[0m \u001b[0;34m'error'\u001b[0m \u001b[0;32min\u001b[0m \u001b[0mreply\u001b[0m\u001b[0;34m:\u001b[0m\u001b[0;34m\u001b[0m\u001b[0;34m\u001b[0m\u001b[0m\n\u001b[0;32m--> 103\u001b[0;31m         \u001b[0;32mraise\u001b[0m \u001b[0mMessageError\u001b[0m\u001b[0;34m(\u001b[0m\u001b[0mreply\u001b[0m\u001b[0;34m[\u001b[0m\u001b[0;34m'error'\u001b[0m\u001b[0;34m]\u001b[0m\u001b[0;34m)\u001b[0m\u001b[0;34m\u001b[0m\u001b[0;34m\u001b[0m\u001b[0m\n\u001b[0m\u001b[1;32m    104\u001b[0m       \u001b[0;32mreturn\u001b[0m \u001b[0mreply\u001b[0m\u001b[0;34m.\u001b[0m\u001b[0mget\u001b[0m\u001b[0;34m(\u001b[0m\u001b[0;34m'data'\u001b[0m\u001b[0;34m,\u001b[0m \u001b[0;32mNone\u001b[0m\u001b[0;34m)\u001b[0m\u001b[0;34m\u001b[0m\u001b[0;34m\u001b[0m\u001b[0m\n\u001b[1;32m    105\u001b[0m \u001b[0;34m\u001b[0m\u001b[0m\n",
            "\u001b[0;31mMessageError\u001b[0m: Error: credential propagation was unsuccessful"
          ]
        }
      ]
    },
    {
      "cell_type": "code",
      "source": [
        "#proporciona visualización y exploración de datos con el dataset cargado"
      ],
      "metadata": {
        "id": "xvni9ncDBUkA"
      },
      "execution_count": 6,
      "outputs": []
    },
    {
      "cell_type": "markdown",
      "source": [
        "# **Visualización y Exploración de Datos:**\n",
        "\n",
        "\n",
        "*   df.head(): Muestra las primeras filas del DataFrame.\n",
        "*   df.tail(): Muestra las últimas filas del DataFrame.\n",
        "*   df.info(): Muestra información sobre el DataFrame, incluyendo tipos de datos y valores no nulos.\n",
        "*   df.describe(): Proporciona estadísticas descriptivas para columnas numéricas.\n",
        "*   df.shape: Devuelve una tupla con la cantidad de filas y columnas del DataFrame.\n",
        "*   df.columns: Devuelve una lista con los nombres de las columnas del DataFrame."
      ],
      "metadata": {
        "id": "v3bOXngEBdel"
      }
    },
    {
      "cell_type": "markdown",
      "source": [
        "## Transformación de nombres de atributos"
      ],
      "metadata": {
        "id": "-DUzjZP59ilF"
      }
    },
    {
      "cell_type": "code",
      "source": [
        "#cambia los nombres de las columnas del dataframe\n",
        "# Renombramos las columnas\n",
        "data_rename_2 = df.rename(columns={\n",
        "                                  'age':        'edad',\n",
        "                                  'job':        'trabajo',\n",
        "                                  'marital':    'estado_civil',\n",
        "                                  'education':  'educacion',\n",
        "                                  'default':    'morosidad',\n",
        "                                  'balance':    'saldo',\n",
        "                                  'housing':    'vivienda',\n",
        "                                  'loan':       'prestamo',\n",
        "                                  'contact':    'contacto',\n",
        "                                  'day':        'dia',\n",
        "                                  'month':      'mes',\n",
        "                                  'duration':   'duracion',\n",
        "                                  'campaign':   'campana',\n",
        "                                  'pdays':      'dias_previos',\n",
        "                                  'previous':   'anterior',\n",
        "                                  'poutcome':   'resultado',\n",
        "                                  'y':          'respuesta'})\n",
        "\n",
        "# Verificamos los cambios\n",
        "print(data_rename_2.head())"
      ],
      "metadata": {
        "id": "B7dcYCWP8bz8",
        "colab": {
          "base_uri": "https://localhost:8080/",
          "height": 211
        },
        "outputId": "26a7108f-e498-4ea1-b2f0-120fb65f9ea8"
      },
      "execution_count": 7,
      "outputs": [
        {
          "output_type": "error",
          "ename": "NameError",
          "evalue": "name 'df' is not defined",
          "traceback": [
            "\u001b[0;31m---------------------------------------------------------------------------\u001b[0m",
            "\u001b[0;31mNameError\u001b[0m                                 Traceback (most recent call last)",
            "\u001b[0;32m<ipython-input-7-26d146689908>\u001b[0m in \u001b[0;36m<cell line: 3>\u001b[0;34m()\u001b[0m\n\u001b[1;32m      1\u001b[0m \u001b[0;31m#cambia los nombres de las columnas del dataframe\u001b[0m\u001b[0;34m\u001b[0m\u001b[0;34m\u001b[0m\u001b[0m\n\u001b[1;32m      2\u001b[0m \u001b[0;31m# Renombramos las columnas\u001b[0m\u001b[0;34m\u001b[0m\u001b[0;34m\u001b[0m\u001b[0m\n\u001b[0;32m----> 3\u001b[0;31m data_rename_2 = df.rename(columns={\n\u001b[0m\u001b[1;32m      4\u001b[0m                                   \u001b[0;34m'age'\u001b[0m\u001b[0;34m:\u001b[0m        \u001b[0;34m'edad'\u001b[0m\u001b[0;34m,\u001b[0m\u001b[0;34m\u001b[0m\u001b[0;34m\u001b[0m\u001b[0m\n\u001b[1;32m      5\u001b[0m                                   \u001b[0;34m'job'\u001b[0m\u001b[0;34m:\u001b[0m        \u001b[0;34m'trabajo'\u001b[0m\u001b[0;34m,\u001b[0m\u001b[0;34m\u001b[0m\u001b[0;34m\u001b[0m\u001b[0m\n",
            "\u001b[0;31mNameError\u001b[0m: name 'df' is not defined"
          ]
        }
      ]
    },
    {
      "cell_type": "code",
      "source": [
        "# Renombrar las columnas #2\n",
        "df.columns = ['edad',\n",
        "              'trabajo',\n",
        "              'estado_civil',\n",
        "              'educacion',\n",
        "              'morosidad',\n",
        "              'saldo',\n",
        "              'vivienda',\n",
        "              'prestamo',\n",
        "              'contacto',\n",
        "              'dia',\n",
        "              'mes',\n",
        "              'duracion',\n",
        "              'campaña',\n",
        "              'dias_previos',\n",
        "              'anterior',\n",
        "              'resultado_prev',\n",
        "              'respuesta']\n",
        "\n",
        "print(df.columns)"
      ],
      "metadata": {
        "id": "zE6yUqKck2jG"
      },
      "execution_count": null,
      "outputs": []
    },
    {
      "cell_type": "code",
      "source": [
        "#visualiza las primeras líneas de tu .csv\n",
        "# sns.displot(df, x=\"respuesta\", hue=\"resultado_prev\", multiple=\"dodge\")\n",
        "# sns.displot(df, x=\"resultado_prev\", hue=\"educacion\", multiple = \"dodge\")\n",
        "#sns.displot(df, x=\"educacion\", hue=\"respuesta\", multiple=\"dodge\")\n",
        "#sns.displot(df, x=\"educacion\", binwidth=15)\n",
        "#sns.catplot(df, y=\"educacion\", hue= \"respuesta\", kind=\"count\")\n",
        "\n",
        "#visualiza las primeras líneas de tu .csv\n",
        "# sns.displot(df, x=\"respuesta\", hue=\"resultado_prev\", multiple=\"dodge\")\n",
        "# sns.displot(df, x=\"resultado_prev\", hue=\"educacion\", multiple = \"dodge\")\n",
        "#sns.displot(df, x=\"educacion\", hue=\"respuesta\", multiple=\"dodge\")\n",
        "#sns.displot(df, x=\"educacion\", binwidth=15)\n",
        "#sns.catplot(df, y=\"educacion\", hue= \"respuesta\", kind=\"count\")\n",
        "\n",
        "print(df['educacion'].value_counts())\n",
        "\n",
        "# Cuales son los posibles valores de \"trabajo\"\n",
        "print(df['trabajo'].value_counts())\n",
        "\n",
        "print(df['estado_civil'].value_counts())"
      ],
      "metadata": {
        "id": "DAurjZa07b5Z"
      },
      "execution_count": null,
      "outputs": []
    },
    {
      "cell_type": "markdown",
      "source": [
        "En este punto podemos ver como algunas columnas tienen variables que necesitan ser \"limpiadas\", con valores categóricos repetidos, cuya única diferencia es el uso de mayúsculas"
      ],
      "metadata": {
        "id": "N-lfg65Jf-JM"
      }
    },
    {
      "cell_type": "code",
      "metadata": {
        "id": "gATCZsQPE3VQ"
      },
      "source": [
        "#clasificar columnas\n",
        "categoricas = df.select_dtypes(include=['object']).columns.tolist()\n",
        "numericas = df.select_dtypes(include=['int64', 'float64']).columns.tolist()\n",
        "print(\"Columnas categóricas:\", categoricas)\n",
        "print(\"Columnas numéricas:\", numericas)"
      ],
      "execution_count": null,
      "outputs": []
    },
    {
      "cell_type": "code",
      "source": [
        "pd.value_counts(df['trabajo'])"
      ],
      "metadata": {
        "id": "Wsf-I34hlDom"
      },
      "execution_count": null,
      "outputs": []
    },
    {
      "cell_type": "code",
      "source": [
        "#proporciona estadísticas descriptivas para columnas numéricas"
      ],
      "metadata": {
        "id": "UwSY-R2xBFzR"
      },
      "execution_count": null,
      "outputs": []
    },
    {
      "cell_type": "markdown",
      "source": [
        "## 4. Limpieza\n",
        "\n",
        "Realizaremos el proceso de limpieza teniendo en cuenta las situaciones más comunes:\n",
        "\n",
        "1. Datos faltantes en algunas celdas\n",
        "2. Columnas irrelevantes (que no responden al problema que queremos resolver)\n",
        "3. Registros (filas) repetidos\n",
        "4. Valores extremos (*outliers*) en el caso de las variables numéricas. Se deben analizar en detalle pues no necesariamente la solución es eliminarlos\n",
        "5. Errores tipográficos en el caso de las variables categóricas\n",
        "\n",
        "Al final de este proceso de limpieza deberíamos tener un set de datos **íntegro**, listo para la fase de Análisis Exploratorio."
      ],
      "metadata": {
        "id": "9tP4NlOGcmGc"
      }
    },
    {
      "cell_type": "markdown",
      "source": [
        "## 4.1 Datos faltantes\n",
        "\n",
        "Acá comenzamos a ver que los datos no están completos, pues no todas las columnas tienen la misma cantidad de registros.\n",
        "\n",
        "El número total de registros debería ser 45.215. Sin embargo columnas como \"job\", \"marital\", \"education\", \"balance\", \"duration\" y \"pdays\".\n",
        "\n",
        "Por ser tan pocos los datos  faltantes optaremos por eliminar las filas correspondientes:"
      ],
      "metadata": {
        "id": "46uhC-egctBk"
      }
    },
    {
      "cell_type": "code",
      "source": [
        "#Comando para contar los valores faltantes de mi dataframe\n",
        "df.isna().sum()"
      ],
      "metadata": {
        "id": "5AQVtkiNcnWR"
      },
      "execution_count": null,
      "outputs": []
    },
    {
      "cell_type": "code",
      "source": [
        "#elimino los valores faltantes de mi dataframe\n",
        "df.dropna(inplace=True)\n",
        "\n",
        "#conteo de valores por columna de mi dataframe\n",
        "df.count()"
      ],
      "metadata": {
        "id": "Rti2umSze8zc"
      },
      "execution_count": null,
      "outputs": []
    },
    {
      "cell_type": "markdown",
      "source": [
        "##4.2 Columnas irrelevantes\n",
        "\n",
        "Una columna irrelevante puede ser:\n",
        "\n",
        "- **Una columna que no contiene información relevante para el problema que queremos resolver**. Por ejemplo en este caso podría ser una columna que no guarde relación con el posible perfil del cliente (deporte favorito, hobbies, comida favorita, etc.)\n",
        "- **Una columna categórica pero con un sólo nivel**. Por ejemplo si en la columna \"job\" solo tuviésemos el nivel \"unknown\".\n",
        "- **Una columna numérica pero con un sólo valor**. Por ejemplo si en la columna \"edad\" todos los valores fuesen iguales a 50.\n",
        "- **Columnas con información redundante**. Por ejemplo si además de las columnas \"month\" y \"day\" tuviésemos la columna \"month-day\", resultado de combinar las dos anteriores.\n",
        "\n",
        "Si tenemos la duda de si alguna columna puede ser relevante o no lo mejor es dejarla (y más adelante en posteriores etapas podremos darnos cuenta de si se debe preservar o no).\n",
        "\n",
        "En este caso todas las columnas pueden resultar relevantes, pero debemos verificar que no haya columnas categóricas con un sólo nivel, o columnas numéricas con un sólo valor:"
      ],
      "metadata": {
        "id": "iiwDQtf6kLCV"
      }
    },
    {
      "cell_type": "markdown",
      "source": [
        "# **for col in cols_cat:**\n",
        "Este es un bucle for que itera sobre cada elemento en la lista cols_cat. La variable col tomará el valor de cada elemento en cada iteración del bucle.\n",
        "\n",
        "print(f'Columna {col}: {data[col].nunique()} subniveles'): Dentro del bucle, esta línea de código imprime un mensaje que indica el nombre de la columna (col), seguido por el número de subniveles únicos en esa columna.\n",
        "\n",
        "f'Columna {col}: {data[col].nunique()} subniveles': Esta es una cadena de formato (f-string) que contiene dos variables:\n",
        "{col}: Representa el nombre de la columna actual en la iteración del bucle.\n",
        "{data[col].nunique()}: Representa el número de subniveles únicos en la columna actual. data[col] selecciona la columna actual del DataFrame y .nunique() calcula el número de valores únicos en esa columna."
      ],
      "metadata": {
        "id": "_Mp3NA1KiXIX"
      }
    },
    {
      "cell_type": "code",
      "source": [
        "# Conteo de los niveles en las diferentes columnas categóricas\n",
        "cols_cat = ['trabajo', 'estado_civil', 'educacion', 'morosidad', 'vivienda',\n",
        "       'prestamo', 'contacto', 'mes', 'resultado_prev', 'respuesta']\n",
        "\n",
        "for col in cols_cat:\n",
        "  print(f'Columna {col}: {df[col].nunique()} subniveles')"
      ],
      "metadata": {
        "id": "TrtH8OzKe8lh"
      },
      "execution_count": null,
      "outputs": []
    },
    {
      "cell_type": "code",
      "source": [
        "#Conteo los valores\n",
        "#pd.value_counts(df['trabajo'])\n",
        "print(df['duracion'].std())"
      ],
      "metadata": {
        "id": "L9NEsBNcs99J"
      },
      "execution_count": null,
      "outputs": []
    },
    {
      "cell_type": "markdown",
      "source": [
        "Todas las columnas categóricas tienen más de 1 subnivel. No eliminaremos ninguna.\n",
        "\n",
        "Verifiquemos lo que ocurre con las columnas numéricas:"
      ],
      "metadata": {
        "id": "O9wOldaamWMZ"
      }
    },
    {
      "cell_type": "markdown",
      "source": [
        "Todas las columnas numéricas tienen desviaciones estándar (\"std\") diferentes de cero, lo que indica que no tienen un único valor.\n",
        "\n",
        "Preservaremos todas las columnas numéricas."
      ],
      "metadata": {
        "id": "Jbqj5dyXmc-i"
      }
    },
    {
      "cell_type": "markdown",
      "source": [
        "La **desviación estándar** es una medida que nos indica qué tan dispersos o alejados están los valores de un conjunto de datos respecto a su media o promedio. En otras palabras, nos ayuda a entender cuánto varían los valores individuales de un conjunto de datos con respecto a su valor promedio.\n",
        "\n",
        "Imagina que tienes un conjunto de datos que representa las alturas de estudiantes en una clase. Si la desviación estándar es baja, significa que la mayoría de los estudiantes tienen alturas muy similares entre sí y cercanas a la altura promedio de la clase. Por otro lado, si la desviación estándar es alta, significa que las alturas de los estudiantes están muy dispersas, algunos son muy altos y otros muy bajos en comparación con la altura promedio.\n",
        "\n",
        "Entonces, la desviación estándar nos da una idea de la dispersión o variabilidad de los datos alrededor de su promedio. Una desviación estándar baja indica que los datos están más agrupados alrededor del promedio, mientras que una desviación estándar alta indica que los datos están más dispersos o separados del promedio."
      ],
      "metadata": {
        "id": "JcvifwPPnHLK"
      }
    },
    {
      "cell_type": "code",
      "source": [
        "# Calcular la desviación estándar para las columnas numéricas\n",
        "desviaciones_estandar = df[['edad', 'saldo', 'dia', 'duracion', 'campaña', 'dias_previos', 'anterior']].std()\n",
        "\n",
        "# Imprimir las desviaciones estándar\n",
        "print(desviaciones_estandar)"
      ],
      "metadata": {
        "id": "BKh3RZvRmW7t"
      },
      "execution_count": null,
      "outputs": []
    },
    {
      "cell_type": "code",
      "source": [
        "#desviacion estandar para la variable 'pdays'\n",
        "destd_pdays = df[['dias_previos']].std()\n",
        "\n",
        "# Imprimir las desviaciones estándar\n",
        "print(destd_pdays)"
      ],
      "metadata": {
        "id": "bXhQbALAs7ZW"
      },
      "execution_count": null,
      "outputs": []
    },
    {
      "cell_type": "code",
      "source": [
        "# Crear una gráfica de barras para representar las desviaciones estándar\n",
        "desviaciones_estandar.plot(kind='bar')\n",
        "plt.title('Desviación Estándar de las Variables Numéricas')\n",
        "plt.xlabel('Variables')\n",
        "plt.ylabel('Desviación Estándar')\n",
        "plt.xticks(rotation=45)\n",
        "plt.show()"
      ],
      "metadata": {
        "id": "zTdEJPRRs-b7"
      },
      "execution_count": null,
      "outputs": []
    },
    {
      "cell_type": "code",
      "source": [
        "# Graficar la desviación estándar de 'pdays'\n",
        "plt.figure(figsize=(4, 2))  # Configura el tamaño de la figura\n",
        "plt.bar('pdays', destd_pdays)  # Crea una barra para la desviación estándar de 'pdays'\n",
        "plt.title('Desviación Estándar de pdays')\n",
        "plt.ylabel('Desviación Estándar')\n",
        "plt.show()"
      ],
      "metadata": {
        "id": "Pk_b91eNtCNO"
      },
      "execution_count": null,
      "outputs": []
    },
    {
      "cell_type": "code",
      "source": [
        "# Calcula la media del atributo \"pdays: dias de contacto al usuario antes de la campaña actual\"\n",
        "media = df['dias_previos'].mean()\n",
        "\n",
        "print(\"Promedio de dias de contacto:\", media)"
      ],
      "metadata": {
        "id": "OsmS71IOu_1A"
      },
      "execution_count": null,
      "outputs": []
    },
    {
      "cell_type": "code",
      "source": [
        "# Graficar un histograma del atributo \"pdays\"\n",
        "plt.hist(df['dias_previos'], bins=20, color='purple', edgecolor='black')\n",
        "\n",
        "# Agregar una línea vertical para mostrar la media\n",
        "plt.axvline(media, color='blue', linestyle='dashed', linewidth=1)\n",
        "\n",
        "# Etiquetas y título\n",
        "plt.xlabel('Valor de la pdays')\n",
        "plt.ylabel('Frecuencia')\n",
        "plt.title('Histograma de la pdays con Media')\n",
        "\n",
        "# Mostrar la gráfica\n",
        "plt.show()"
      ],
      "metadata": {
        "id": "OUMqf0BMvDF3"
      },
      "execution_count": null,
      "outputs": []
    },
    {
      "cell_type": "markdown",
      "source": [
        "##4.3 Filas repetidas"
      ],
      "metadata": {
        "id": "khWhpFOl4utI"
      }
    },
    {
      "cell_type": "code",
      "source": [
        "#Mostramos la cantidad de registros antes de aplicar una transformación, limpieza o filtro\n",
        "print(f'Tamaño del set antes de eliminar las filas repetidas: {df.shape}')\n",
        "df.drop_duplicates(inplace=True)\n",
        "#Mostramos la cantidad de registros después de aplicar una transformación, limpieza o filtro\n",
        "print(f'Tamaño del set después de eliminar las filas repetidas: {df.shape}')"
      ],
      "metadata": {
        "id": "dz4UH4oc4a42"
      },
      "execution_count": null,
      "outputs": []
    },
    {
      "cell_type": "markdown",
      "source": [
        "##4.4 *Outliers* en las variables numéricas\n",
        "\n",
        "No siempre se deben eliminar los *outliers* porque dependiendo de la variable numérica analizada estos pueden contener información importante.\n",
        "\n",
        "Creemos gráficas tipo \"boxplot\" de las columnas numéricas:"
      ],
      "metadata": {
        "id": "pYAKVUmO5em0"
      }
    },
    {
      "cell_type": "code",
      "source": [
        "# Generar gráficas individuales pues las variables numéricas\n",
        "# están en rangos diferentes\n",
        "cols_num = ['edad', 'saldo', 'dia', 'duracion', 'campaña',\n",
        "            'dias_previos', 'anterior']\n",
        "\n",
        "fig, ax = plt.subplots(nrows=7, ncols=1, figsize=(8,30))\n",
        "fig.subplots_adjust(hspace=0.5)\n",
        "\n",
        "for i, col in enumerate(cols_num):\n",
        "    sns.boxplot(x=col, data=df, ax=ax[i])\n",
        "    ax[i].set_title(col)"
      ],
      "metadata": {
        "id": "gRU-lFQb40_x"
      },
      "execution_count": null,
      "outputs": []
    },
    {
      "cell_type": "markdown",
      "source": [
        "**Observaciones:**\n",
        "- \"age\": hay sujetos con edades mucho mayores a 100 años\n",
        "- \"duration\": hay valores negativos\n",
        "- \"previous\": hay un valor extremadamente alto (cercano a 300)"
      ],
      "metadata": {
        "id": "pcs4newN7HG4"
      }
    },
    {
      "cell_type": "code",
      "source": [
        "# Eliminar filas con \"age\">100\n",
        "print(f'Tamaño del set antes de eliminar registros de edad: {df.shape}')\n",
        "data = df.drop(df[df['edad'] > 100].index)\n",
        "print(f'Tamaño del set después de eliminar registros de edad: {data.shape}')"
      ],
      "metadata": {
        "id": "CobMETXN7HtP"
      },
      "execution_count": null,
      "outputs": []
    },
    {
      "cell_type": "code",
      "source": [
        "# Eliminar filas con \"duration\"<0\n",
        "print(f'Tamaño del set antes de eliminar registros de duración: {data.shape}')\n",
        "data = df.drop(df[df['duracion'] < 0].index)\n",
        "#data = data[data['duration']>0]\n",
        "print(f'Tamaño del set después de eliminar registros de duración: {data.shape}')"
      ],
      "metadata": {
        "id": "C6hjjuLM7NDp"
      },
      "execution_count": null,
      "outputs": []
    },
    {
      "cell_type": "code",
      "source": [
        "# Eliminar filas con \"previous\">100\n",
        "print(f'Tamaño del set antes de eliminar registros de anterior: {data.shape}')\n",
        "data = df.drop(df[df['anterior'] > 100].index)\n",
        "#data = data[data['anterior']<0]\n",
        "print(f'Tamaño del set después de eliminar registros de anterior: {data.shape}')"
      ],
      "metadata": {
        "id": "GrO7AGkZ7Tgf"
      },
      "execution_count": null,
      "outputs": []
    },
    {
      "cell_type": "markdown",
      "source": [
        "##4.5 Errores tipográficos en variables categóricas\n",
        "\n",
        "En una variable categórica pueden aparecer sub-niveles como \"unknown\" y \"UNK\" que para nosotros son equivalentes pero que para nuestro programa parecerían diferentes.\n",
        "\n",
        "Se deben unificar estos sub-niveles"
      ],
      "metadata": {
        "id": "9wp7lbIU7WZD"
      }
    },
    {
      "cell_type": "code",
      "source": [
        "# Graficar los subniveles de cada variable categórica\n",
        "cols_cat = ['trabajo', 'estado_civil', 'educacion', 'morosidad', 'vivienda',\n",
        "       'prestamo', 'contacto', 'mes', 'resultado_prev', 'respuesta']\n",
        "\n",
        "fig, ax = plt.subplots(nrows=10, ncols=1, figsize=(10,30))\n",
        "fig.subplots_adjust(hspace=1)\n",
        "\n",
        "for i, col in enumerate(cols_cat):\n",
        "  sns.countplot(x=col, hue=col, data=data, ax=ax[i], palette= 'colorblind', legend=False)\n",
        "  ax[i].set_title(col)\n",
        "  ax[i].tick_params(axis='x', labelrotation=30)"
      ],
      "metadata": {
        "id": "W4oL43kz7W-3"
      },
      "execution_count": null,
      "outputs": []
    },
    {
      "cell_type": "markdown",
      "source": [
        "Inicialmente se observa que hay sub-niveles con el mismo nombre pero escritos en minúscula, en mayúscula o con la primera letra en mayúscula.\n",
        "\n",
        "Subniveles con ningún dato, por lo que podríamos eliminarlos :3\n",
        "\n",
        "Unifiquemos estos sub-niveles inicialmente:"
      ],
      "metadata": {
        "id": "q6UWlbjLSzcN"
      }
    },
    {
      "cell_type": "code",
      "source": [
        "for column in data.columns:\n",
        "#Representar en minúsculas sólo si la columna es categórica\n",
        "    if column in cols_cat:\n",
        "        data[column] = data[column].str.lower()\n",
        "\n",
        "#generemos las gráficas nuevamente\n",
        "fig, ax = plt.subplots(nrows=10, ncols=1, figsize=(10,30))\n",
        "fig.subplots_adjust(hspace=1)\n",
        "\n",
        "for i, col in enumerate(cols_cat):\n",
        "  sns.countplot(x=col, hue=col, data=data, ax=ax[i], palette='colorblind', legend=False)\n",
        "  ax[i].set_title(col)\n",
        "  ax[i].tick_params(axis='x', labelrotation=30)"
      ],
      "metadata": {
        "id": "rUNukVlRSGvO"
      },
      "execution_count": null,
      "outputs": []
    },
    {
      "cell_type": "code",
      "source": [
        "# job: unificar admin. y administrative\n",
        "print(data['trabajo'].unique())\n",
        "data['trabajo'] = data['trabajo'].str.replace('admin.','administrative', regex=False)\n",
        "print(data['trabajo'].unique())"
      ],
      "metadata": {
        "id": "zX7O7fmRTOtd"
      },
      "execution_count": null,
      "outputs": []
    },
    {
      "cell_type": "code",
      "source": [
        "# marital: unificar div. y divorced\n",
        "print(data['estado_civil'].unique())\n",
        "data['estado_civil'] = data['estado_civil'].str.replace('div.','divorced', regex=False)\n",
        "print(data['estado_civil'].unique())"
      ],
      "metadata": {
        "id": "9x8dmUMqT30L"
      },
      "execution_count": null,
      "outputs": []
    },
    {
      "cell_type": "code",
      "source": [
        "# education: unificar sec. y secondary, unk y unknown\n",
        "print(data['educacion'].unique())\n",
        "data['educacion'] = data['educacion'].str.replace('sec.','secondary', regex=False)\n",
        "data.loc[data['educacion']=='unk','educacion'] = 'unknown'\n",
        "print(data['educacion'].unique())"
      ],
      "metadata": {
        "id": "CNvidlKXT_M-"
      },
      "execution_count": null,
      "outputs": []
    },
    {
      "cell_type": "code",
      "source": [
        "# contact: unificar telephone y phone\n",
        "print(data['contacto'].unique())\n",
        "data.loc[data['contacto']=='phone','contacto'] = 'telephone'\n",
        "data.loc[data['contacto']=='mobile','contacto'] = 'cellular'\n",
        "print(data['contacto'].unique())"
      ],
      "metadata": {
        "id": "9t9RuGRgULKN"
      },
      "execution_count": null,
      "outputs": []
    },
    {
      "cell_type": "code",
      "source": [
        "# poutcome: unificar unk y unknown\n",
        "print(data['resultado_prev'].unique())\n",
        "data.loc[data['resultado_prev']=='unk','resultado_prev']='unknown'\n",
        "print(data['resultado_prev'].unique())"
      ],
      "metadata": {
        "id": "qvh6DPoTUO0J"
      },
      "execution_count": null,
      "outputs": []
    },
    {
      "cell_type": "code",
      "source": [
        "#Edad(age) promedio(mean) de los clientes interesados en adquirir un certificado de depósito(y)\n",
        "edad_promedio_interesados = data[data['respuesta'] == 'yes']['edad'].mean()\n",
        "print(\"1. Edad promedio de los clientes interesados:\", edad_promedio_interesados)"
      ],
      "metadata": {
        "id": "KYiZwJk8VFp8"
      },
      "execution_count": null,
      "outputs": []
    },
    {
      "cell_type": "markdown",
      "source": [
        "Los clientes interesados tiene una edad promedio de 41 años, lo que nos habla de las características de nuestros potenciales clientes, muchops de ellos pueden tener familiar y por ende responsabilidades que les lleve a considerar alguno de nuestros créditos"
      ],
      "metadata": {
        "id": "qa8rHJ4_RmS7"
      }
    },
    {
      "cell_type": "code",
      "source": [
        "#Diferencia de ingresos entre clientes interesados y no interesados:\n",
        "sns.boxplot(x='respuesta', y='saldo', data=data)\n",
        "plt.title('Diferencia de saldo promedio anual entre clientes interesados y no interesados')\n",
        "plt.show()"
      ],
      "metadata": {
        "id": "v8oi23kWVFig"
      },
      "execution_count": null,
      "outputs": []
    },
    {
      "cell_type": "markdown",
      "source": [
        "Vemos como  hay una diferencia muy grande entre el salario de aquellos que aceptaron y los que rechazaron el crédito, aquellas personas que aceptaron el crédito tienen un nivel de ingresos menor a aquellos que lo rechazaron, dandonos pie a suponer que el salario mensual de nuestros clientes no suplen en su totalidad las necesidades y gastos que tiene dentro del hogar, factor que los lleva a aceptar nuestros préstamos y créditos.\n",
        "\n",
        "Hay un dato atípico, que sustancialmente podría tratarse de un error tipográfico a la hora de ingresar la información"
      ],
      "metadata": {
        "id": "P8Lrsl6bRCnZ"
      }
    },
    {
      "cell_type": "code",
      "source": [
        "#Distribución de estado civil entre clientes interesados:\n",
        "sns.countplot(x='respuesta', hue='estado_civil', data=data)\n",
        "plt.title('Distribución de estado civil entre clientes interesados y no interesados')\n",
        "plt.show()"
      ],
      "metadata": {
        "id": "8iyyuFOUVLWo"
      },
      "execution_count": null,
      "outputs": []
    },
    {
      "cell_type": "markdown",
      "source": [
        "Comparativamente, el estado civil de una persona no influye en gran medida en la decision que tomó, a pesar de que intuitivamente se asuma lo opuesto, una persona casada y divorciada debería tener menor probabilidad de aceptar un crédito, dados los gastos y egresos que nacen a partir de su estado civil, sin embargo, vemos como realmente no hay una diferencia muy grande entre los casados y los solteros.\n",
        "\n",
        "Cabe aclarar que, aquellos que son casados aceptaron más el credito que los demás, implicando que es muy posible que el préstamo haya sido para un gasto familiar, bien sea un viaje, una casa, remodelación, o en general cualquier ingeso que nace del hogar."
      ],
      "metadata": {
        "id": "IPvmHMMRQM4t"
      }
    },
    {
      "cell_type": "code",
      "source": [
        "#Distribución medio de contacto de los clientes interesados:\n",
        "plt.figure(figsize=(10, 6))\n",
        "sns.countplot(x='contacto', hue='respuesta', data=data)\n",
        "plt.title('Distribución de medio de contacto entre clientes interesados')\n",
        "plt.show()"
      ],
      "metadata": {
        "id": "xr1AenUoVFXI"
      },
      "execution_count": null,
      "outputs": []
    },
    {
      "cell_type": "markdown",
      "source": [
        "Aqui podemos ver que la comunicación primó en el uso de celular, quienes además tuvieron más propuestas aceptadas."
      ],
      "metadata": {
        "id": "pJinE6-hP-RA"
      }
    },
    {
      "cell_type": "code",
      "source": [
        "#Tipo de ocupación de los clientes interesados:\n",
        "sns.countplot(y='trabajo', hue='respuesta', data=data)\n",
        "plt.title('Tipo de ocupación de los clientes interesados')\n",
        "plt.show()"
      ],
      "metadata": {
        "id": "ST4YLAVdWjAt"
      },
      "execution_count": null,
      "outputs": []
    },
    {
      "cell_type": "markdown",
      "source": [
        "En cuanto a la ocpuación de las personas encuestadas, vemos que proporcionalmente quienes más aceptaron el crédito fueron personas estudiando (comparandolo por supuesto, con la cantidad de personas encuestadas con la misma ocupación que rechazaron la oferta).\n",
        "\n",
        "El banco realizó más encuestas a personas cuya ocupación es: management, technician, blue-collar, administrative y services, de los cuales, su gran amyoria rechazó la propuesta, en mayor proporción que aquellos cuyos ingresos son menores."
      ],
      "metadata": {
        "id": "eDI5XpdqO8bm"
      }
    },
    {
      "cell_type": "code",
      "source": [
        "#Patrón temporal en los contactos que conducen a una mayor conversión de clientes:\n",
        "sns.countplot(x='vivienda', hue='respuesta', data=data)\n",
        "plt.title('Patrón temporal en los contactos que conducen a una mayor conversión')\n",
        "plt.show()"
      ],
      "metadata": {
        "id": "Ic7-JQ7OWplk"
      },
      "execution_count": null,
      "outputs": []
    },
    {
      "cell_type": "markdown",
      "source": [
        "En un análisis rápido a ésta gráfica, podemos darnos cuentas de algunos factores clave que podrían explicar el comportamiento de las personas encuestadas.\n",
        "\n",
        "En primer lugar, podemos ver una estacionalidad en los datos, los meses de diciembre y octubre son aquellos en los que menos encuestados hay, se puede entender que es por la temporada en la que nos encontramos, sin embargo, es posible que por esta omisión el banco esté perdiendo posibles clientes, dado que octubre y diciembre son los meses en los que los colombianos gastan más sistematicamente.\n",
        "\n",
        "El banco tiene un historial de aprovechar la segunda mitad del año, e incluso algunos meses antes, desde mayo, cuando el número de llamadas aumenta. Es posibles que se esten obviando meses claves en los que se podría atraer a más clientes aprovechando lso eventos y celebraciones sociales.\n",
        "\n",
        "A lo largo del año, podriamos decir que la cantidad de personas que aceptan y las que rechazan el crédito es de alguna manera proporcional, independientemente del número de encuestas que se realicen."
      ],
      "metadata": {
        "id": "V4XFYOIQ3hbh"
      }
    },
    {
      "cell_type": "markdown",
      "source": [
        "# Conclusiones\n",
        "Podríamos concluir que nuestros créditos fueron aceptados por aquellas personas con un hogar conformado, es decir, cuentan con familia, con ingresos que no suplen en su totalidad las necesidades o deseos del hogar.\n"
      ],
      "metadata": {
        "id": "RYNGefzg29I_"
      }
    },
    {
      "cell_type": "code",
      "source": [
        "import os\n",
        "\n",
        "folder_path_destino = '/content/drive/MyDrive/Curso analítica de datos/'\n",
        "\n",
        "#Verificar si la carpeta de destino existe, si no, crearla\n",
        "if not os.path.exists(folder_path_destino):\n",
        "    os.makedirs(folder_path_destino)\n",
        "\n",
        "#Guardar el archivo en la carpeta\n",
        "file_path_destino = os.path.join(folder_path_destino, 'dataset_banco_limpio.csv')\n",
        "path_origen.to_csv(file_path, index = False)"
      ],
      "metadata": {
        "id": "DY7STBdD37vl"
      },
      "execution_count": null,
      "outputs": []
    },
    {
      "cell_type": "code",
      "source": [
        "import pandas as pd\n",
        "import statsmodels.api as sm\n",
        "\n",
        "# ... (your existing code) ...\n",
        "\n",
        "# Variables independientes (X) y dependiente (y)\n",
        "X = data[['edad','trabajo','estado_civil','educacion','morosidad','saldo','vivienda',\n",
        "              'prestamo','contacto','dia','mes','duracion','campaña','dias_previos',\n",
        "              'anterior','resultado_prev']]\n",
        "\n",
        "# Explicitly convert all columns to string type before one-hot encoding\n",
        "for col in ['trabajo', 'estado_civil', 'educacion', 'vivienda', 'prestamo', 'contacto', 'mes', 'anterior', 'resultado_prev']:\n",
        "    X[col] = X[col].astype(str)\n",
        "\n",
        "# Convert categorical columns to numerical using one-hot encoding\n",
        "X = pd.get_dummies(X, columns=['trabajo', 'estado_civil', 'educacion', 'vivienda',\n",
        "                                   'prestamo', 'contacto', 'mes', 'anterior',\n",
        "                                   'resultado_prev'], drop_first=True)\n",
        "\n",
        "# Variable dependiente\n",
        "y = data['respuesta']\n",
        "\n",
        "# Convert 'y' to numerical (0 and 1) if it's not already\n",
        "y = y.map({'no': 0, 'si': 1})\n",
        "\n",
        "for col in X.select_dtypes(include=['object']).columns:\n",
        "    X[col] = pd.to_numeric(X[col], errors='coerce')\n",
        "\n",
        "# Impute or drop missing values (NaN) as needed\n",
        "X = X.fillna(X.mean())\n",
        "\n",
        "# Agregar una constante (intercepto) al modelo\n",
        "X = sm.add_constant(X)\n",
        "\n",
        "# Ajustar el modelo de regresión\n",
        "modelo = sm.OLS(y, X).fit()\n",
        "\n",
        "# Mostrar el resumen de la regresión\n",
        "print(modelo.summary())"
      ],
      "metadata": {
        "id": "tiQuz5Ai1lDz"
      },
      "execution_count": null,
      "outputs": []
    },
    {
      "cell_type": "markdown",
      "source": [
        "\n",
        "## Uso de libreria pygwalker\n",
        "\n",
        "https://docs.kanaries.net/es/pygwalker\n",
        "\n",
        "https://nicolasurrego.medium.com/visualizaci%C3%B3n-avanzada-de-datos-descubre-el-poder-de-pygwalker-en-python-9d708724ddfb\n",
        "\n"
      ],
      "metadata": {
        "id": "FiLoIqikUa0V"
      }
    },
    {
      "cell_type": "code",
      "source": [
        "#Instalación de librería\n",
        "!pip install pygwalker"
      ],
      "metadata": {
        "id": "WcuhL7ORUbic"
      },
      "execution_count": null,
      "outputs": []
    },
    {
      "cell_type": "code",
      "source": [
        "#Importo la librería con el alias\n",
        "import pygwalker as pyg"
      ],
      "metadata": {
        "id": "zYmOY3F8UdCd"
      },
      "execution_count": null,
      "outputs": []
    },
    {
      "cell_type": "code",
      "source": [
        "#Lectura de dataset con librería\n",
        "pyg.walk(data)"
      ],
      "metadata": {
        "id": "FIFGL7ToUb3I"
      },
      "execution_count": null,
      "outputs": []
    }
  ]
}